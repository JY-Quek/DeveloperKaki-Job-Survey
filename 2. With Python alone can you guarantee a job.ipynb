{
 "cells": [
  {
   "cell_type": "markdown",
   "id": "13009b09",
   "metadata": {},
   "source": [
    "<h3>2. With Python alone, can you guarantee a job? </h3>\n"
   ]
  },
  {
   "cell_type": "code",
   "execution_count": 1,
   "id": "fa17e3ec",
   "metadata": {},
   "outputs": [],
   "source": [
    "from tools import data_loader\n",
    "import pandas as pd"
   ]
  },
  {
   "cell_type": "code",
   "execution_count": 2,
   "id": "b9ace251",
   "metadata": {},
   "outputs": [],
   "source": [
    "df = data_loader.load_data(\"Developer Kaki _ Developer Salary Survey 2022 Results.xlsx\")"
   ]
  },
  {
   "cell_type": "code",
   "execution_count": 3,
   "id": "4535138a",
   "metadata": {},
   "outputs": [],
   "source": [
    "from tools import frequency_counter"
   ]
  },
  {
   "cell_type": "code",
   "execution_count": 4,
   "id": "f2180828",
   "metadata": {},
   "outputs": [],
   "source": [
    "counter_info, wordcloud = frequency_counter.freq_counter(df)"
   ]
  },
  {
   "cell_type": "markdown",
   "id": "4b42871c",
   "metadata": {},
   "source": [
    "<h4>We take the 20 most common tech will be enough.</h4>"
   ]
  },
  {
   "cell_type": "code",
   "execution_count": 5,
   "id": "b4b27a11",
   "metadata": {},
   "outputs": [],
   "source": [
    "twentieth_most_common = [x[0] for x in counter_info.most_common()][:20]"
   ]
  },
  {
   "cell_type": "markdown",
   "id": "288fafdd",
   "metadata": {},
   "source": [
    "<h4>The density is calculated by taking the occurance of each tech divide by its neighbouring tech. For eg, Person A uses Java, Python, C# at job. The density for \"Python\" is 1/3. This value is taken from every person using Python and calculate the average density for Python.</h4>"
   ]
  },
  {
   "cell_type": "code",
   "execution_count": 6,
   "id": "37683a3d",
   "metadata": {},
   "outputs": [
    {
     "data": {
      "text/plain": [
       "{'.net': 0.535309829059829,\n",
       " 'flutter': 0.511984126984127,\n",
       " 'java': 0.4792759528053648,\n",
       " 'php': 0.46650289745527823,\n",
       " 'react native': 0.4349697404045231,\n",
       " 'c#': 0.4138821630347054,\n",
       " 'laravel': 0.39925044091710754,\n",
       " 'javascript': 0.37960040605389433,\n",
       " 'vuejs': 0.35937328954570336,\n",
       " 'python': 0.3533005189255189,\n",
       " 'aws': 0.3290063057186344,\n",
       " 'react': 0.3238678804855274,\n",
       " 'sql': 0.32214781746031745,\n",
       " 'angular': 0.30082539682539683,\n",
       " 'nodejs': 0.26883503401360537,\n",
       " 'typescript': 0.2314079952968842,\n",
       " 'mysql': 0.22766703580657072,\n",
       " 'docker': 0.21849909349909352,\n",
       " 'css': 0.19376653439153438,\n",
       " 'html': 0.19360500610500614}"
      ]
     },
     "execution_count": 6,
     "metadata": {},
     "output_type": "execute_result"
    }
   ],
   "source": [
    "density_output = frequency_counter.calculate_density(twentieth_most_common, df)\n",
    "density_output"
   ]
  },
  {
   "cell_type": "markdown",
   "id": "35870f12",
   "metadata": {},
   "source": [
    "<h4>Take a look at the list and say we ignore the frameworks and only look at the general purpose core programming languages. We will have PHP, C#, Javascript, Java, Python, .NET.</h4>"
   ]
  },
  {
   "cell_type": "code",
   "execution_count": 7,
   "id": "3e6d53fe",
   "metadata": {},
   "outputs": [],
   "source": [
    "filtered_density = { tech: density_output[tech] for tech in [\"php\",\"c#\",\"javascript\",\"java\",\"python\",\".net\"] }"
   ]
  },
  {
   "cell_type": "code",
   "execution_count": 8,
   "id": "b2c45ef5",
   "metadata": {},
   "outputs": [
    {
     "data": {
      "text/plain": [
       "{'.net': 0.535309829059829,\n",
       " 'java': 0.4792759528053648,\n",
       " 'php': 0.46650289745527823,\n",
       " 'c#': 0.4138821630347054,\n",
       " 'javascript': 0.37960040605389433,\n",
       " 'python': 0.3533005189255189}"
      ]
     },
     "execution_count": 8,
     "metadata": {},
     "output_type": "execute_result"
    }
   ],
   "source": [
    "dict(sorted(filtered_density.items(), key=lambda item: item[1], reverse=True))  # Sort them from high to low"
   ]
  },
  {
   "cell_type": "markdown",
   "id": "df5267e9",
   "metadata": {},
   "source": [
    "<h4>We can see from the list that python has the lowest density. This might incidate that most people who know Python uses a lot more other technology too. To answer the question, it might seems that we might need to learn more than Python if we are to secure a job.</h4>"
   ]
  }
 ],
 "metadata": {
  "kernelspec": {
   "display_name": "Python 3 (ipykernel)",
   "language": "python",
   "name": "python3"
  },
  "language_info": {
   "codemirror_mode": {
    "name": "ipython",
    "version": 3
   },
   "file_extension": ".py",
   "mimetype": "text/x-python",
   "name": "python",
   "nbconvert_exporter": "python",
   "pygments_lexer": "ipython3",
   "version": "3.10.0"
  }
 },
 "nbformat": 4,
 "nbformat_minor": 5
}
